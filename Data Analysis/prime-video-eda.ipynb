{
 "cells": [
  {
   "cell_type": "code",
   "execution_count": 1,
   "id": "b73f94fd",
   "metadata": {
    "execution": {
     "iopub.execute_input": "2025-02-11T16:03:44.555801Z",
     "iopub.status.busy": "2025-02-11T16:03:44.555290Z",
     "iopub.status.idle": "2025-02-11T16:03:47.423385Z",
     "shell.execute_reply": "2025-02-11T16:03:47.422237Z"
    },
    "papermill": {
     "duration": 2.877386,
     "end_time": "2025-02-11T16:03:47.425417",
     "exception": false,
     "start_time": "2025-02-11T16:03:44.548031",
     "status": "completed"
    },
    "tags": []
   },
   "outputs": [],
   "source": [
    "import pandas as pd\n",
    "import matplotlib.pyplot as plt\n",
    "import seaborn as sns\n",
    "import warnings\n",
    "warnings.filterwarnings('ignore')"
   ]
  },
  {
   "cell_type": "code",
   "execution_count": 2,
   "id": "ce46b30a",
   "metadata": {
    "execution": {
     "iopub.execute_input": "2025-02-11T16:03:47.438349Z",
     "iopub.status.busy": "2025-02-11T16:03:47.437841Z",
     "iopub.status.idle": "2025-02-11T16:03:47.605954Z",
     "shell.execute_reply": "2025-02-11T16:03:47.604314Z"
    },
    "papermill": {
     "duration": 0.176825,
     "end_time": "2025-02-11T16:03:47.608124",
     "exception": false,
     "start_time": "2025-02-11T16:03:47.431299",
     "status": "completed"
    },
    "tags": []
   },
   "outputs": [],
   "source": [
    "df = pd.read_csv(r'/kaggle/input/amazon-prime-movies-and-tv-shows/amazon_prime_titles.csv')"
   ]
  },
  {
   "cell_type": "code",
   "execution_count": 3,
   "id": "0aa07b08",
   "metadata": {
    "execution": {
     "iopub.execute_input": "2025-02-11T16:03:47.620418Z",
     "iopub.status.busy": "2025-02-11T16:03:47.620059Z",
     "iopub.status.idle": "2025-02-11T16:03:47.650270Z",
     "shell.execute_reply": "2025-02-11T16:03:47.649065Z"
    },
    "papermill": {
     "duration": 0.038287,
     "end_time": "2025-02-11T16:03:47.652090",
     "exception": false,
     "start_time": "2025-02-11T16:03:47.613803",
     "status": "completed"
    },
    "tags": []
   },
   "outputs": [
    {
     "data": {
      "text/html": [
       "<div>\n",
       "<style scoped>\n",
       "    .dataframe tbody tr th:only-of-type {\n",
       "        vertical-align: middle;\n",
       "    }\n",
       "\n",
       "    .dataframe tbody tr th {\n",
       "        vertical-align: top;\n",
       "    }\n",
       "\n",
       "    .dataframe thead th {\n",
       "        text-align: right;\n",
       "    }\n",
       "</style>\n",
       "<table border=\"1\" class=\"dataframe\">\n",
       "  <thead>\n",
       "    <tr style=\"text-align: right;\">\n",
       "      <th></th>\n",
       "      <th>show_id</th>\n",
       "      <th>type</th>\n",
       "      <th>title</th>\n",
       "      <th>director</th>\n",
       "      <th>cast</th>\n",
       "      <th>country</th>\n",
       "      <th>date_added</th>\n",
       "      <th>release_year</th>\n",
       "      <th>rating</th>\n",
       "      <th>duration</th>\n",
       "      <th>listed_in</th>\n",
       "      <th>description</th>\n",
       "    </tr>\n",
       "  </thead>\n",
       "  <tbody>\n",
       "    <tr>\n",
       "      <th>0</th>\n",
       "      <td>s1</td>\n",
       "      <td>Movie</td>\n",
       "      <td>The Grand Seduction</td>\n",
       "      <td>Don McKellar</td>\n",
       "      <td>Brendan Gleeson, Taylor Kitsch, Gordon Pinsent</td>\n",
       "      <td>Canada</td>\n",
       "      <td>March 30, 2021</td>\n",
       "      <td>2014</td>\n",
       "      <td>NaN</td>\n",
       "      <td>113 min</td>\n",
       "      <td>Comedy, Drama</td>\n",
       "      <td>A small fishing village must procure a local d...</td>\n",
       "    </tr>\n",
       "    <tr>\n",
       "      <th>1</th>\n",
       "      <td>s2</td>\n",
       "      <td>Movie</td>\n",
       "      <td>Take Care Good Night</td>\n",
       "      <td>Girish Joshi</td>\n",
       "      <td>Mahesh Manjrekar, Abhay Mahajan, Sachin Khedekar</td>\n",
       "      <td>India</td>\n",
       "      <td>March 30, 2021</td>\n",
       "      <td>2018</td>\n",
       "      <td>13+</td>\n",
       "      <td>110 min</td>\n",
       "      <td>Drama, International</td>\n",
       "      <td>A Metro Family decides to fight a Cyber Crimin...</td>\n",
       "    </tr>\n",
       "    <tr>\n",
       "      <th>2</th>\n",
       "      <td>s3</td>\n",
       "      <td>Movie</td>\n",
       "      <td>Secrets of Deception</td>\n",
       "      <td>Josh Webber</td>\n",
       "      <td>Tom Sizemore, Lorenzo Lamas, Robert LaSardo, R...</td>\n",
       "      <td>United States</td>\n",
       "      <td>March 30, 2021</td>\n",
       "      <td>2017</td>\n",
       "      <td>NaN</td>\n",
       "      <td>74 min</td>\n",
       "      <td>Action, Drama, Suspense</td>\n",
       "      <td>After a man discovers his wife is cheating on ...</td>\n",
       "    </tr>\n",
       "    <tr>\n",
       "      <th>3</th>\n",
       "      <td>s4</td>\n",
       "      <td>Movie</td>\n",
       "      <td>Pink: Staying True</td>\n",
       "      <td>Sonia Anderson</td>\n",
       "      <td>Interviews with: Pink, Adele, Beyoncé, Britney...</td>\n",
       "      <td>United States</td>\n",
       "      <td>March 30, 2021</td>\n",
       "      <td>2014</td>\n",
       "      <td>NaN</td>\n",
       "      <td>69 min</td>\n",
       "      <td>Documentary</td>\n",
       "      <td>Pink breaks the mold once again, bringing her ...</td>\n",
       "    </tr>\n",
       "    <tr>\n",
       "      <th>4</th>\n",
       "      <td>s5</td>\n",
       "      <td>Movie</td>\n",
       "      <td>Monster Maker</td>\n",
       "      <td>Giles Foster</td>\n",
       "      <td>Harry Dean Stanton, Kieran O'Brien, George Cos...</td>\n",
       "      <td>United Kingdom</td>\n",
       "      <td>March 30, 2021</td>\n",
       "      <td>1989</td>\n",
       "      <td>NaN</td>\n",
       "      <td>45 min</td>\n",
       "      <td>Drama, Fantasy</td>\n",
       "      <td>Teenage Matt Banting wants to work with a famo...</td>\n",
       "    </tr>\n",
       "  </tbody>\n",
       "</table>\n",
       "</div>"
      ],
      "text/plain": [
       "  show_id   type                 title        director  \\\n",
       "0      s1  Movie   The Grand Seduction    Don McKellar   \n",
       "1      s2  Movie  Take Care Good Night    Girish Joshi   \n",
       "2      s3  Movie  Secrets of Deception     Josh Webber   \n",
       "3      s4  Movie    Pink: Staying True  Sonia Anderson   \n",
       "4      s5  Movie         Monster Maker    Giles Foster   \n",
       "\n",
       "                                                cast         country  \\\n",
       "0     Brendan Gleeson, Taylor Kitsch, Gordon Pinsent          Canada   \n",
       "1   Mahesh Manjrekar, Abhay Mahajan, Sachin Khedekar           India   \n",
       "2  Tom Sizemore, Lorenzo Lamas, Robert LaSardo, R...   United States   \n",
       "3  Interviews with: Pink, Adele, Beyoncé, Britney...   United States   \n",
       "4  Harry Dean Stanton, Kieran O'Brien, George Cos...  United Kingdom   \n",
       "\n",
       "       date_added  release_year rating duration                listed_in  \\\n",
       "0  March 30, 2021          2014    NaN  113 min            Comedy, Drama   \n",
       "1  March 30, 2021          2018    13+  110 min     Drama, International   \n",
       "2  March 30, 2021          2017    NaN   74 min  Action, Drama, Suspense   \n",
       "3  March 30, 2021          2014    NaN   69 min              Documentary   \n",
       "4  March 30, 2021          1989    NaN   45 min           Drama, Fantasy   \n",
       "\n",
       "                                         description  \n",
       "0  A small fishing village must procure a local d...  \n",
       "1  A Metro Family decides to fight a Cyber Crimin...  \n",
       "2  After a man discovers his wife is cheating on ...  \n",
       "3  Pink breaks the mold once again, bringing her ...  \n",
       "4  Teenage Matt Banting wants to work with a famo...  "
      ]
     },
     "execution_count": 3,
     "metadata": {},
     "output_type": "execute_result"
    }
   ],
   "source": [
    "df.head()"
   ]
  },
  {
   "cell_type": "code",
   "execution_count": 4,
   "id": "1fcac464",
   "metadata": {
    "execution": {
     "iopub.execute_input": "2025-02-11T16:03:47.665013Z",
     "iopub.status.busy": "2025-02-11T16:03:47.664631Z",
     "iopub.status.idle": "2025-02-11T16:03:47.678745Z",
     "shell.execute_reply": "2025-02-11T16:03:47.677567Z"
    },
    "papermill": {
     "duration": 0.02262,
     "end_time": "2025-02-11T16:03:47.680544",
     "exception": false,
     "start_time": "2025-02-11T16:03:47.657924",
     "status": "completed"
    },
    "tags": []
   },
   "outputs": [
    {
     "data": {
      "text/html": [
       "<div>\n",
       "<style scoped>\n",
       "    .dataframe tbody tr th:only-of-type {\n",
       "        vertical-align: middle;\n",
       "    }\n",
       "\n",
       "    .dataframe tbody tr th {\n",
       "        vertical-align: top;\n",
       "    }\n",
       "\n",
       "    .dataframe thead th {\n",
       "        text-align: right;\n",
       "    }\n",
       "</style>\n",
       "<table border=\"1\" class=\"dataframe\">\n",
       "  <thead>\n",
       "    <tr style=\"text-align: right;\">\n",
       "      <th></th>\n",
       "      <th>show_id</th>\n",
       "      <th>type</th>\n",
       "      <th>title</th>\n",
       "      <th>director</th>\n",
       "      <th>cast</th>\n",
       "      <th>country</th>\n",
       "      <th>date_added</th>\n",
       "      <th>release_year</th>\n",
       "      <th>rating</th>\n",
       "      <th>duration</th>\n",
       "      <th>listed_in</th>\n",
       "      <th>description</th>\n",
       "    </tr>\n",
       "  </thead>\n",
       "  <tbody>\n",
       "    <tr>\n",
       "      <th>9663</th>\n",
       "      <td>s9664</td>\n",
       "      <td>Movie</td>\n",
       "      <td>Pride Of The Bowery</td>\n",
       "      <td>Joseph H. Lewis</td>\n",
       "      <td>Leo Gorcey, Bobby Jordan</td>\n",
       "      <td>NaN</td>\n",
       "      <td>NaN</td>\n",
       "      <td>1940</td>\n",
       "      <td>7+</td>\n",
       "      <td>60 min</td>\n",
       "      <td>Comedy</td>\n",
       "      <td>New York City street principles get an East Si...</td>\n",
       "    </tr>\n",
       "    <tr>\n",
       "      <th>9664</th>\n",
       "      <td>s9665</td>\n",
       "      <td>TV Show</td>\n",
       "      <td>Planet Patrol</td>\n",
       "      <td>NaN</td>\n",
       "      <td>DICK VOSBURGH, RONNIE STEVENS, LIBBY MORRIS, M...</td>\n",
       "      <td>NaN</td>\n",
       "      <td>NaN</td>\n",
       "      <td>2018</td>\n",
       "      <td>13+</td>\n",
       "      <td>4 Seasons</td>\n",
       "      <td>TV Shows</td>\n",
       "      <td>This is Earth, 2100AD - and these are the adve...</td>\n",
       "    </tr>\n",
       "    <tr>\n",
       "      <th>9665</th>\n",
       "      <td>s9666</td>\n",
       "      <td>Movie</td>\n",
       "      <td>Outpost</td>\n",
       "      <td>Steve Barker</td>\n",
       "      <td>Ray Stevenson, Julian Wadham, Richard Brake, M...</td>\n",
       "      <td>NaN</td>\n",
       "      <td>NaN</td>\n",
       "      <td>2008</td>\n",
       "      <td>R</td>\n",
       "      <td>90 min</td>\n",
       "      <td>Action</td>\n",
       "      <td>In war-torn Eastern Europe, a world-weary grou...</td>\n",
       "    </tr>\n",
       "    <tr>\n",
       "      <th>9666</th>\n",
       "      <td>s9667</td>\n",
       "      <td>TV Show</td>\n",
       "      <td>Maradona: Blessed Dream</td>\n",
       "      <td>NaN</td>\n",
       "      <td>Esteban Recagno, Ezequiel Stremiz, Luciano Vit...</td>\n",
       "      <td>NaN</td>\n",
       "      <td>NaN</td>\n",
       "      <td>2021</td>\n",
       "      <td>TV-MA</td>\n",
       "      <td>1 Season</td>\n",
       "      <td>Drama, Sports</td>\n",
       "      <td>The series tells the story of Diego Maradona, ...</td>\n",
       "    </tr>\n",
       "    <tr>\n",
       "      <th>9667</th>\n",
       "      <td>s9668</td>\n",
       "      <td>Movie</td>\n",
       "      <td>Harry Brown</td>\n",
       "      <td>Daniel Barber</td>\n",
       "      <td>Michael Caine, Emily Mortimer, Joseph Gilgun, ...</td>\n",
       "      <td>NaN</td>\n",
       "      <td>NaN</td>\n",
       "      <td>2010</td>\n",
       "      <td>R</td>\n",
       "      <td>103 min</td>\n",
       "      <td>Action, Drama, Suspense</td>\n",
       "      <td>Harry Brown, starring two-time Academy Award w...</td>\n",
       "    </tr>\n",
       "  </tbody>\n",
       "</table>\n",
       "</div>"
      ],
      "text/plain": [
       "     show_id     type                    title         director  \\\n",
       "9663   s9664    Movie      Pride Of The Bowery  Joseph H. Lewis   \n",
       "9664   s9665  TV Show            Planet Patrol              NaN   \n",
       "9665   s9666    Movie                  Outpost     Steve Barker   \n",
       "9666   s9667  TV Show  Maradona: Blessed Dream              NaN   \n",
       "9667   s9668    Movie              Harry Brown    Daniel Barber   \n",
       "\n",
       "                                                   cast country date_added  \\\n",
       "9663                           Leo Gorcey, Bobby Jordan     NaN        NaN   \n",
       "9664  DICK VOSBURGH, RONNIE STEVENS, LIBBY MORRIS, M...     NaN        NaN   \n",
       "9665  Ray Stevenson, Julian Wadham, Richard Brake, M...     NaN        NaN   \n",
       "9666  Esteban Recagno, Ezequiel Stremiz, Luciano Vit...     NaN        NaN   \n",
       "9667  Michael Caine, Emily Mortimer, Joseph Gilgun, ...     NaN        NaN   \n",
       "\n",
       "      release_year rating   duration                listed_in  \\\n",
       "9663          1940     7+     60 min                   Comedy   \n",
       "9664          2018    13+  4 Seasons                 TV Shows   \n",
       "9665          2008      R     90 min                   Action   \n",
       "9666          2021  TV-MA   1 Season            Drama, Sports   \n",
       "9667          2010      R    103 min  Action, Drama, Suspense   \n",
       "\n",
       "                                            description  \n",
       "9663  New York City street principles get an East Si...  \n",
       "9664  This is Earth, 2100AD - and these are the adve...  \n",
       "9665  In war-torn Eastern Europe, a world-weary grou...  \n",
       "9666  The series tells the story of Diego Maradona, ...  \n",
       "9667  Harry Brown, starring two-time Academy Award w...  "
      ]
     },
     "execution_count": 4,
     "metadata": {},
     "output_type": "execute_result"
    }
   ],
   "source": [
    "df.tail()"
   ]
  },
  {
   "cell_type": "code",
   "execution_count": 5,
   "id": "d4246c4c",
   "metadata": {
    "execution": {
     "iopub.execute_input": "2025-02-11T16:03:47.693843Z",
     "iopub.status.busy": "2025-02-11T16:03:47.693400Z",
     "iopub.status.idle": "2025-02-11T16:03:47.728629Z",
     "shell.execute_reply": "2025-02-11T16:03:47.727243Z"
    },
    "papermill": {
     "duration": 0.043741,
     "end_time": "2025-02-11T16:03:47.730314",
     "exception": false,
     "start_time": "2025-02-11T16:03:47.686573",
     "status": "completed"
    },
    "tags": []
   },
   "outputs": [
    {
     "name": "stdout",
     "output_type": "stream",
     "text": [
      "<class 'pandas.core.frame.DataFrame'>\n",
      "RangeIndex: 9668 entries, 0 to 9667\n",
      "Data columns (total 12 columns):\n",
      " #   Column        Non-Null Count  Dtype \n",
      "---  ------        --------------  ----- \n",
      " 0   show_id       9668 non-null   object\n",
      " 1   type          9668 non-null   object\n",
      " 2   title         9668 non-null   object\n",
      " 3   director      7585 non-null   object\n",
      " 4   cast          8435 non-null   object\n",
      " 5   country       672 non-null    object\n",
      " 6   date_added    155 non-null    object\n",
      " 7   release_year  9668 non-null   int64 \n",
      " 8   rating        9331 non-null   object\n",
      " 9   duration      9668 non-null   object\n",
      " 10  listed_in     9668 non-null   object\n",
      " 11  description   9668 non-null   object\n",
      "dtypes: int64(1), object(11)\n",
      "memory usage: 906.5+ KB\n"
     ]
    }
   ],
   "source": [
    "df.info()"
   ]
  },
  {
   "cell_type": "code",
   "execution_count": 6,
   "id": "ba658646",
   "metadata": {
    "execution": {
     "iopub.execute_input": "2025-02-11T16:03:47.744009Z",
     "iopub.status.busy": "2025-02-11T16:03:47.743648Z",
     "iopub.status.idle": "2025-02-11T16:03:47.757773Z",
     "shell.execute_reply": "2025-02-11T16:03:47.756522Z"
    },
    "papermill": {
     "duration": 0.023044,
     "end_time": "2025-02-11T16:03:47.759668",
     "exception": false,
     "start_time": "2025-02-11T16:03:47.736624",
     "status": "completed"
    },
    "tags": []
   },
   "outputs": [
    {
     "data": {
      "text/plain": [
       "show_id            0\n",
       "type               0\n",
       "title              0\n",
       "director        2083\n",
       "cast            1233\n",
       "country         8996\n",
       "date_added      9513\n",
       "release_year       0\n",
       "rating           337\n",
       "duration           0\n",
       "listed_in          0\n",
       "description        0\n",
       "dtype: int64"
      ]
     },
     "execution_count": 6,
     "metadata": {},
     "output_type": "execute_result"
    }
   ],
   "source": [
    "df.isnull().sum()"
   ]
  },
  {
   "cell_type": "code",
   "execution_count": 7,
   "id": "ef43bc4f",
   "metadata": {
    "execution": {
     "iopub.execute_input": "2025-02-11T16:03:47.773505Z",
     "iopub.status.busy": "2025-02-11T16:03:47.773105Z",
     "iopub.status.idle": "2025-02-11T16:03:47.788502Z",
     "shell.execute_reply": "2025-02-11T16:03:47.787352Z"
    },
    "papermill": {
     "duration": 0.024243,
     "end_time": "2025-02-11T16:03:47.790207",
     "exception": false,
     "start_time": "2025-02-11T16:03:47.765964",
     "status": "completed"
    },
    "tags": []
   },
   "outputs": [
    {
     "data": {
      "text/plain": [
       "show_id          0.000000\n",
       "type             0.000000\n",
       "title            0.000000\n",
       "director        21.545304\n",
       "cast            12.753413\n",
       "country         93.049235\n",
       "date_added      98.396773\n",
       "release_year     0.000000\n",
       "rating           3.485726\n",
       "duration         0.000000\n",
       "listed_in        0.000000\n",
       "description      0.000000\n",
       "dtype: float64"
      ]
     },
     "execution_count": 7,
     "metadata": {},
     "output_type": "execute_result"
    }
   ],
   "source": [
    "df.isnull().sum()/len(df) * 100"
   ]
  },
  {
   "cell_type": "code",
   "execution_count": 8,
   "id": "6ddef6e3",
   "metadata": {
    "execution": {
     "iopub.execute_input": "2025-02-11T16:03:47.804175Z",
     "iopub.status.busy": "2025-02-11T16:03:47.803774Z",
     "iopub.status.idle": "2025-02-11T16:03:47.832346Z",
     "shell.execute_reply": "2025-02-11T16:03:47.831066Z"
    },
    "papermill": {
     "duration": 0.037721,
     "end_time": "2025-02-11T16:03:47.834298",
     "exception": false,
     "start_time": "2025-02-11T16:03:47.796577",
     "status": "completed"
    },
    "tags": []
   },
   "outputs": [
    {
     "data": {
      "text/plain": [
       "0"
      ]
     },
     "execution_count": 8,
     "metadata": {},
     "output_type": "execute_result"
    }
   ],
   "source": [
    "df.duplicated().sum()"
   ]
  },
  {
   "cell_type": "code",
   "execution_count": 9,
   "id": "89764e4f",
   "metadata": {
    "execution": {
     "iopub.execute_input": "2025-02-11T16:03:47.848684Z",
     "iopub.status.busy": "2025-02-11T16:03:47.848243Z",
     "iopub.status.idle": "2025-02-11T16:03:47.858506Z",
     "shell.execute_reply": "2025-02-11T16:03:47.857290Z"
    },
    "papermill": {
     "duration": 0.019213,
     "end_time": "2025-02-11T16:03:47.860301",
     "exception": false,
     "start_time": "2025-02-11T16:03:47.841088",
     "status": "completed"
    },
    "tags": []
   },
   "outputs": [],
   "source": [
    "df.drop('description' , axis = 1 , inplace = True)"
   ]
  },
  {
   "cell_type": "code",
   "execution_count": 10,
   "id": "40423f47",
   "metadata": {
    "execution": {
     "iopub.execute_input": "2025-02-11T16:03:47.874612Z",
     "iopub.status.busy": "2025-02-11T16:03:47.874099Z",
     "iopub.status.idle": "2025-02-11T16:03:47.887832Z",
     "shell.execute_reply": "2025-02-11T16:03:47.886674Z"
    },
    "papermill": {
     "duration": 0.022911,
     "end_time": "2025-02-11T16:03:47.889727",
     "exception": false,
     "start_time": "2025-02-11T16:03:47.866816",
     "status": "completed"
    },
    "tags": []
   },
   "outputs": [
    {
     "data": {
      "text/html": [
       "<div>\n",
       "<style scoped>\n",
       "    .dataframe tbody tr th:only-of-type {\n",
       "        vertical-align: middle;\n",
       "    }\n",
       "\n",
       "    .dataframe tbody tr th {\n",
       "        vertical-align: top;\n",
       "    }\n",
       "\n",
       "    .dataframe thead th {\n",
       "        text-align: right;\n",
       "    }\n",
       "</style>\n",
       "<table border=\"1\" class=\"dataframe\">\n",
       "  <thead>\n",
       "    <tr style=\"text-align: right;\">\n",
       "      <th></th>\n",
       "      <th>show_id</th>\n",
       "      <th>type</th>\n",
       "      <th>title</th>\n",
       "      <th>director</th>\n",
       "      <th>cast</th>\n",
       "      <th>country</th>\n",
       "      <th>date_added</th>\n",
       "      <th>release_year</th>\n",
       "      <th>rating</th>\n",
       "      <th>duration</th>\n",
       "      <th>listed_in</th>\n",
       "    </tr>\n",
       "  </thead>\n",
       "  <tbody>\n",
       "    <tr>\n",
       "      <th>0</th>\n",
       "      <td>s1</td>\n",
       "      <td>Movie</td>\n",
       "      <td>The Grand Seduction</td>\n",
       "      <td>Don McKellar</td>\n",
       "      <td>Brendan Gleeson, Taylor Kitsch, Gordon Pinsent</td>\n",
       "      <td>Canada</td>\n",
       "      <td>March 30, 2021</td>\n",
       "      <td>2014</td>\n",
       "      <td>NaN</td>\n",
       "      <td>113 min</td>\n",
       "      <td>Comedy, Drama</td>\n",
       "    </tr>\n",
       "    <tr>\n",
       "      <th>1</th>\n",
       "      <td>s2</td>\n",
       "      <td>Movie</td>\n",
       "      <td>Take Care Good Night</td>\n",
       "      <td>Girish Joshi</td>\n",
       "      <td>Mahesh Manjrekar, Abhay Mahajan, Sachin Khedekar</td>\n",
       "      <td>India</td>\n",
       "      <td>March 30, 2021</td>\n",
       "      <td>2018</td>\n",
       "      <td>13+</td>\n",
       "      <td>110 min</td>\n",
       "      <td>Drama, International</td>\n",
       "    </tr>\n",
       "    <tr>\n",
       "      <th>2</th>\n",
       "      <td>s3</td>\n",
       "      <td>Movie</td>\n",
       "      <td>Secrets of Deception</td>\n",
       "      <td>Josh Webber</td>\n",
       "      <td>Tom Sizemore, Lorenzo Lamas, Robert LaSardo, R...</td>\n",
       "      <td>United States</td>\n",
       "      <td>March 30, 2021</td>\n",
       "      <td>2017</td>\n",
       "      <td>NaN</td>\n",
       "      <td>74 min</td>\n",
       "      <td>Action, Drama, Suspense</td>\n",
       "    </tr>\n",
       "    <tr>\n",
       "      <th>3</th>\n",
       "      <td>s4</td>\n",
       "      <td>Movie</td>\n",
       "      <td>Pink: Staying True</td>\n",
       "      <td>Sonia Anderson</td>\n",
       "      <td>Interviews with: Pink, Adele, Beyoncé, Britney...</td>\n",
       "      <td>United States</td>\n",
       "      <td>March 30, 2021</td>\n",
       "      <td>2014</td>\n",
       "      <td>NaN</td>\n",
       "      <td>69 min</td>\n",
       "      <td>Documentary</td>\n",
       "    </tr>\n",
       "    <tr>\n",
       "      <th>4</th>\n",
       "      <td>s5</td>\n",
       "      <td>Movie</td>\n",
       "      <td>Monster Maker</td>\n",
       "      <td>Giles Foster</td>\n",
       "      <td>Harry Dean Stanton, Kieran O'Brien, George Cos...</td>\n",
       "      <td>United Kingdom</td>\n",
       "      <td>March 30, 2021</td>\n",
       "      <td>1989</td>\n",
       "      <td>NaN</td>\n",
       "      <td>45 min</td>\n",
       "      <td>Drama, Fantasy</td>\n",
       "    </tr>\n",
       "  </tbody>\n",
       "</table>\n",
       "</div>"
      ],
      "text/plain": [
       "  show_id   type                 title        director  \\\n",
       "0      s1  Movie   The Grand Seduction    Don McKellar   \n",
       "1      s2  Movie  Take Care Good Night    Girish Joshi   \n",
       "2      s3  Movie  Secrets of Deception     Josh Webber   \n",
       "3      s4  Movie    Pink: Staying True  Sonia Anderson   \n",
       "4      s5  Movie         Monster Maker    Giles Foster   \n",
       "\n",
       "                                                cast         country  \\\n",
       "0     Brendan Gleeson, Taylor Kitsch, Gordon Pinsent          Canada   \n",
       "1   Mahesh Manjrekar, Abhay Mahajan, Sachin Khedekar           India   \n",
       "2  Tom Sizemore, Lorenzo Lamas, Robert LaSardo, R...   United States   \n",
       "3  Interviews with: Pink, Adele, Beyoncé, Britney...   United States   \n",
       "4  Harry Dean Stanton, Kieran O'Brien, George Cos...  United Kingdom   \n",
       "\n",
       "       date_added  release_year rating duration                listed_in  \n",
       "0  March 30, 2021          2014    NaN  113 min            Comedy, Drama  \n",
       "1  March 30, 2021          2018    13+  110 min     Drama, International  \n",
       "2  March 30, 2021          2017    NaN   74 min  Action, Drama, Suspense  \n",
       "3  March 30, 2021          2014    NaN   69 min              Documentary  \n",
       "4  March 30, 2021          1989    NaN   45 min           Drama, Fantasy  "
      ]
     },
     "execution_count": 10,
     "metadata": {},
     "output_type": "execute_result"
    }
   ],
   "source": [
    "df.head()"
   ]
  },
  {
   "cell_type": "code",
   "execution_count": 11,
   "id": "588fb307",
   "metadata": {
    "execution": {
     "iopub.execute_input": "2025-02-11T16:03:47.904276Z",
     "iopub.status.busy": "2025-02-11T16:03:47.903903Z",
     "iopub.status.idle": "2025-02-11T16:03:47.922404Z",
     "shell.execute_reply": "2025-02-11T16:03:47.921242Z"
    },
    "papermill": {
     "duration": 0.027803,
     "end_time": "2025-02-11T16:03:47.924283",
     "exception": false,
     "start_time": "2025-02-11T16:03:47.896480",
     "status": "completed"
    },
    "tags": []
   },
   "outputs": [],
   "source": [
    "df['director'].fillna('unavailable',inplace = True)\n",
    "df['cast'].fillna('unavailable',inplace = True)\n",
    "df['country'] = df['country'].fillna(df['country'].mode()[0])\n",
    "df['date_added'] = df['date_added'].ffill()\n",
    "df['rating'] = df['rating'].fillna(df['rating'].mode()[0])"
   ]
  },
  {
   "cell_type": "code",
   "execution_count": 12,
   "id": "c63e365b",
   "metadata": {
    "execution": {
     "iopub.execute_input": "2025-02-11T16:03:47.939052Z",
     "iopub.status.busy": "2025-02-11T16:03:47.938644Z",
     "iopub.status.idle": "2025-02-11T16:03:47.951854Z",
     "shell.execute_reply": "2025-02-11T16:03:47.950824Z"
    },
    "papermill": {
     "duration": 0.022676,
     "end_time": "2025-02-11T16:03:47.953610",
     "exception": false,
     "start_time": "2025-02-11T16:03:47.930934",
     "status": "completed"
    },
    "tags": []
   },
   "outputs": [
    {
     "data": {
      "text/plain": [
       "show_id         0\n",
       "type            0\n",
       "title           0\n",
       "director        0\n",
       "cast            0\n",
       "country         0\n",
       "date_added      0\n",
       "release_year    0\n",
       "rating          0\n",
       "duration        0\n",
       "listed_in       0\n",
       "dtype: int64"
      ]
     },
     "execution_count": 12,
     "metadata": {},
     "output_type": "execute_result"
    }
   ],
   "source": [
    "df.isnull().sum()"
   ]
  },
  {
   "cell_type": "code",
   "execution_count": 13,
   "id": "f68141a1",
   "metadata": {
    "execution": {
     "iopub.execute_input": "2025-02-11T16:03:47.968835Z",
     "iopub.status.busy": "2025-02-11T16:03:47.968364Z",
     "iopub.status.idle": "2025-02-11T16:03:47.979802Z",
     "shell.execute_reply": "2025-02-11T16:03:47.978694Z"
    },
    "papermill": {
     "duration": 0.021363,
     "end_time": "2025-02-11T16:03:47.981795",
     "exception": false,
     "start_time": "2025-02-11T16:03:47.960432",
     "status": "completed"
    },
    "tags": []
   },
   "outputs": [],
   "source": [
    "df['date_added'] = pd.to_datetime(df['date_added'] , format='%B %d, %Y')"
   ]
  },
  {
   "cell_type": "code",
   "execution_count": 14,
   "id": "09d5b179",
   "metadata": {
    "execution": {
     "iopub.execute_input": "2025-02-11T16:03:47.996663Z",
     "iopub.status.busy": "2025-02-11T16:03:47.996281Z",
     "iopub.status.idle": "2025-02-11T16:03:48.011036Z",
     "shell.execute_reply": "2025-02-11T16:03:48.009837Z"
    },
    "papermill": {
     "duration": 0.024569,
     "end_time": "2025-02-11T16:03:48.013398",
     "exception": false,
     "start_time": "2025-02-11T16:03:47.988829",
     "status": "completed"
    },
    "tags": []
   },
   "outputs": [
    {
     "data": {
      "text/html": [
       "<div>\n",
       "<style scoped>\n",
       "    .dataframe tbody tr th:only-of-type {\n",
       "        vertical-align: middle;\n",
       "    }\n",
       "\n",
       "    .dataframe tbody tr th {\n",
       "        vertical-align: top;\n",
       "    }\n",
       "\n",
       "    .dataframe thead th {\n",
       "        text-align: right;\n",
       "    }\n",
       "</style>\n",
       "<table border=\"1\" class=\"dataframe\">\n",
       "  <thead>\n",
       "    <tr style=\"text-align: right;\">\n",
       "      <th></th>\n",
       "      <th>show_id</th>\n",
       "      <th>type</th>\n",
       "      <th>title</th>\n",
       "      <th>director</th>\n",
       "      <th>cast</th>\n",
       "      <th>country</th>\n",
       "      <th>date_added</th>\n",
       "      <th>release_year</th>\n",
       "      <th>rating</th>\n",
       "      <th>duration</th>\n",
       "      <th>listed_in</th>\n",
       "    </tr>\n",
       "  </thead>\n",
       "  <tbody>\n",
       "    <tr>\n",
       "      <th>0</th>\n",
       "      <td>s1</td>\n",
       "      <td>Movie</td>\n",
       "      <td>The Grand Seduction</td>\n",
       "      <td>Don McKellar</td>\n",
       "      <td>Brendan Gleeson, Taylor Kitsch, Gordon Pinsent</td>\n",
       "      <td>Canada</td>\n",
       "      <td>2021-03-30</td>\n",
       "      <td>2014</td>\n",
       "      <td>13+</td>\n",
       "      <td>113 min</td>\n",
       "      <td>Comedy, Drama</td>\n",
       "    </tr>\n",
       "    <tr>\n",
       "      <th>1</th>\n",
       "      <td>s2</td>\n",
       "      <td>Movie</td>\n",
       "      <td>Take Care Good Night</td>\n",
       "      <td>Girish Joshi</td>\n",
       "      <td>Mahesh Manjrekar, Abhay Mahajan, Sachin Khedekar</td>\n",
       "      <td>India</td>\n",
       "      <td>2021-03-30</td>\n",
       "      <td>2018</td>\n",
       "      <td>13+</td>\n",
       "      <td>110 min</td>\n",
       "      <td>Drama, International</td>\n",
       "    </tr>\n",
       "    <tr>\n",
       "      <th>2</th>\n",
       "      <td>s3</td>\n",
       "      <td>Movie</td>\n",
       "      <td>Secrets of Deception</td>\n",
       "      <td>Josh Webber</td>\n",
       "      <td>Tom Sizemore, Lorenzo Lamas, Robert LaSardo, R...</td>\n",
       "      <td>United States</td>\n",
       "      <td>2021-03-30</td>\n",
       "      <td>2017</td>\n",
       "      <td>13+</td>\n",
       "      <td>74 min</td>\n",
       "      <td>Action, Drama, Suspense</td>\n",
       "    </tr>\n",
       "    <tr>\n",
       "      <th>3</th>\n",
       "      <td>s4</td>\n",
       "      <td>Movie</td>\n",
       "      <td>Pink: Staying True</td>\n",
       "      <td>Sonia Anderson</td>\n",
       "      <td>Interviews with: Pink, Adele, Beyoncé, Britney...</td>\n",
       "      <td>United States</td>\n",
       "      <td>2021-03-30</td>\n",
       "      <td>2014</td>\n",
       "      <td>13+</td>\n",
       "      <td>69 min</td>\n",
       "      <td>Documentary</td>\n",
       "    </tr>\n",
       "    <tr>\n",
       "      <th>4</th>\n",
       "      <td>s5</td>\n",
       "      <td>Movie</td>\n",
       "      <td>Monster Maker</td>\n",
       "      <td>Giles Foster</td>\n",
       "      <td>Harry Dean Stanton, Kieran O'Brien, George Cos...</td>\n",
       "      <td>United Kingdom</td>\n",
       "      <td>2021-03-30</td>\n",
       "      <td>1989</td>\n",
       "      <td>13+</td>\n",
       "      <td>45 min</td>\n",
       "      <td>Drama, Fantasy</td>\n",
       "    </tr>\n",
       "  </tbody>\n",
       "</table>\n",
       "</div>"
      ],
      "text/plain": [
       "  show_id   type                 title        director  \\\n",
       "0      s1  Movie   The Grand Seduction    Don McKellar   \n",
       "1      s2  Movie  Take Care Good Night    Girish Joshi   \n",
       "2      s3  Movie  Secrets of Deception     Josh Webber   \n",
       "3      s4  Movie    Pink: Staying True  Sonia Anderson   \n",
       "4      s5  Movie         Monster Maker    Giles Foster   \n",
       "\n",
       "                                                cast         country  \\\n",
       "0     Brendan Gleeson, Taylor Kitsch, Gordon Pinsent          Canada   \n",
       "1   Mahesh Manjrekar, Abhay Mahajan, Sachin Khedekar           India   \n",
       "2  Tom Sizemore, Lorenzo Lamas, Robert LaSardo, R...   United States   \n",
       "3  Interviews with: Pink, Adele, Beyoncé, Britney...   United States   \n",
       "4  Harry Dean Stanton, Kieran O'Brien, George Cos...  United Kingdom   \n",
       "\n",
       "  date_added  release_year rating duration                listed_in  \n",
       "0 2021-03-30          2014    13+  113 min            Comedy, Drama  \n",
       "1 2021-03-30          2018    13+  110 min     Drama, International  \n",
       "2 2021-03-30          2017    13+   74 min  Action, Drama, Suspense  \n",
       "3 2021-03-30          2014    13+   69 min              Documentary  \n",
       "4 2021-03-30          1989    13+   45 min           Drama, Fantasy  "
      ]
     },
     "execution_count": 14,
     "metadata": {},
     "output_type": "execute_result"
    }
   ],
   "source": [
    "df.head()"
   ]
  },
  {
   "cell_type": "code",
   "execution_count": 15,
   "id": "3a514875",
   "metadata": {
    "execution": {
     "iopub.execute_input": "2025-02-11T16:03:48.029179Z",
     "iopub.status.busy": "2025-02-11T16:03:48.028829Z",
     "iopub.status.idle": "2025-02-11T16:03:48.035680Z",
     "shell.execute_reply": "2025-02-11T16:03:48.034568Z"
    },
    "papermill": {
     "duration": 0.016309,
     "end_time": "2025-02-11T16:03:48.037207",
     "exception": false,
     "start_time": "2025-02-11T16:03:48.020898",
     "status": "completed"
    },
    "tags": []
   },
   "outputs": [
    {
     "data": {
      "text/plain": [
       "array(['13+', 'ALL', '18+', 'R', 'TV-Y', 'TV-Y7', 'NR', '16+', 'TV-PG',\n",
       "       '7+', 'TV-14', 'TV-NR', 'TV-G', 'PG-13', 'TV-MA', 'G', 'PG',\n",
       "       'NC-17', 'UNRATED', '16', 'AGES_16_', 'AGES_18_', 'ALL_AGES',\n",
       "       'NOT_RATE'], dtype=object)"
      ]
     },
     "execution_count": 15,
     "metadata": {},
     "output_type": "execute_result"
    }
   ],
   "source": [
    "df['rating'].unique()"
   ]
  },
  {
   "cell_type": "code",
   "execution_count": 16,
   "id": "13f5d63e",
   "metadata": {
    "execution": {
     "iopub.execute_input": "2025-02-11T16:03:48.052953Z",
     "iopub.status.busy": "2025-02-11T16:03:48.052522Z",
     "iopub.status.idle": "2025-02-11T16:03:48.061566Z",
     "shell.execute_reply": "2025-02-11T16:03:48.060523Z"
    },
    "papermill": {
     "duration": 0.018965,
     "end_time": "2025-02-11T16:03:48.063628",
     "exception": false,
     "start_time": "2025-02-11T16:03:48.044663",
     "status": "completed"
    },
    "tags": []
   },
   "outputs": [],
   "source": [
    "df['rating'] = df['rating'].replace({'AGES_16_':'16+' , 'AGES_18_':'18+' , 'NOT_RATE':'UNRATE' , '16':'16+'})"
   ]
  },
  {
   "cell_type": "code",
   "execution_count": 17,
   "id": "005e4279",
   "metadata": {
    "execution": {
     "iopub.execute_input": "2025-02-11T16:03:48.079671Z",
     "iopub.status.busy": "2025-02-11T16:03:48.079254Z",
     "iopub.status.idle": "2025-02-11T16:03:48.087095Z",
     "shell.execute_reply": "2025-02-11T16:03:48.086101Z"
    },
    "papermill": {
     "duration": 0.017627,
     "end_time": "2025-02-11T16:03:48.088955",
     "exception": false,
     "start_time": "2025-02-11T16:03:48.071328",
     "status": "completed"
    },
    "tags": []
   },
   "outputs": [
    {
     "data": {
      "text/plain": [
       "type\n",
       "Movie      7814\n",
       "TV Show    1854\n",
       "Name: count, dtype: int64"
      ]
     },
     "execution_count": 17,
     "metadata": {},
     "output_type": "execute_result"
    }
   ],
   "source": [
    "df['type'].value_counts()"
   ]
  },
  {
   "cell_type": "code",
   "execution_count": 18,
   "id": "e42bbf0c",
   "metadata": {
    "execution": {
     "iopub.execute_input": "2025-02-11T16:03:48.104787Z",
     "iopub.status.busy": "2025-02-11T16:03:48.104389Z",
     "iopub.status.idle": "2025-02-11T16:03:48.109406Z",
     "shell.execute_reply": "2025-02-11T16:03:48.108228Z"
    },
    "papermill": {
     "duration": 0.015145,
     "end_time": "2025-02-11T16:03:48.111233",
     "exception": false,
     "start_time": "2025-02-11T16:03:48.096088",
     "status": "completed"
    },
    "tags": []
   },
   "outputs": [],
   "source": [
    "df.rename(columns={'listed_in':'categories'} , inplace = True)"
   ]
  },
  {
   "cell_type": "code",
   "execution_count": 19,
   "id": "5c6cca20",
   "metadata": {
    "execution": {
     "iopub.execute_input": "2025-02-11T16:03:48.126871Z",
     "iopub.status.busy": "2025-02-11T16:03:48.126510Z",
     "iopub.status.idle": "2025-02-11T16:03:48.138644Z",
     "shell.execute_reply": "2025-02-11T16:03:48.137596Z"
    },
    "papermill": {
     "duration": 0.021936,
     "end_time": "2025-02-11T16:03:48.140336",
     "exception": false,
     "start_time": "2025-02-11T16:03:48.118400",
     "status": "completed"
    },
    "tags": []
   },
   "outputs": [],
   "source": [
    "df['duration_min'] = df['duration'].apply(lambda x : int(x.split()[0]) if 'min' in x else 0)"
   ]
  },
  {
   "cell_type": "code",
   "execution_count": 20,
   "id": "acb6f6d5",
   "metadata": {
    "execution": {
     "iopub.execute_input": "2025-02-11T16:03:48.155929Z",
     "iopub.status.busy": "2025-02-11T16:03:48.155561Z",
     "iopub.status.idle": "2025-02-11T16:03:48.165643Z",
     "shell.execute_reply": "2025-02-11T16:03:48.164115Z"
    },
    "papermill": {
     "duration": 0.019767,
     "end_time": "2025-02-11T16:03:48.167418",
     "exception": false,
     "start_time": "2025-02-11T16:03:48.147651",
     "status": "completed"
    },
    "tags": []
   },
   "outputs": [],
   "source": [
    "df['duration_seasons'] = df['duration'].apply(lambda x : int(x.split()[0]) if 'Seasons' in x else 0)"
   ]
  },
  {
   "cell_type": "code",
   "execution_count": 21,
   "id": "38e5dca3",
   "metadata": {
    "execution": {
     "iopub.execute_input": "2025-02-11T16:03:48.182853Z",
     "iopub.status.busy": "2025-02-11T16:03:48.182475Z",
     "iopub.status.idle": "2025-02-11T16:03:48.206166Z",
     "shell.execute_reply": "2025-02-11T16:03:48.205155Z"
    },
    "papermill": {
     "duration": 0.033547,
     "end_time": "2025-02-11T16:03:48.208015",
     "exception": false,
     "start_time": "2025-02-11T16:03:48.174468",
     "status": "completed"
    },
    "tags": []
   },
   "outputs": [
    {
     "data": {
      "text/html": [
       "<div>\n",
       "<style scoped>\n",
       "    .dataframe tbody tr th:only-of-type {\n",
       "        vertical-align: middle;\n",
       "    }\n",
       "\n",
       "    .dataframe tbody tr th {\n",
       "        vertical-align: top;\n",
       "    }\n",
       "\n",
       "    .dataframe thead th {\n",
       "        text-align: right;\n",
       "    }\n",
       "</style>\n",
       "<table border=\"1\" class=\"dataframe\">\n",
       "  <thead>\n",
       "    <tr style=\"text-align: right;\">\n",
       "      <th></th>\n",
       "      <th>date_added</th>\n",
       "      <th>release_year</th>\n",
       "      <th>duration_min</th>\n",
       "      <th>duration_seasons</th>\n",
       "    </tr>\n",
       "  </thead>\n",
       "  <tbody>\n",
       "    <tr>\n",
       "      <th>count</th>\n",
       "      <td>9668</td>\n",
       "      <td>9668.000000</td>\n",
       "      <td>9668.000000</td>\n",
       "      <td>9668.000000</td>\n",
       "    </tr>\n",
       "    <tr>\n",
       "      <th>mean</th>\n",
       "      <td>2021-06-04 18:47:48.680182016</td>\n",
       "      <td>2008.341849</td>\n",
       "      <td>73.801303</td>\n",
       "      <td>0.191663</td>\n",
       "    </tr>\n",
       "    <tr>\n",
       "      <th>min</th>\n",
       "      <td>2021-03-30 00:00:00</td>\n",
       "      <td>1920.000000</td>\n",
       "      <td>0.000000</td>\n",
       "      <td>0.000000</td>\n",
       "    </tr>\n",
       "    <tr>\n",
       "      <th>25%</th>\n",
       "      <td>2021-03-30 00:00:00</td>\n",
       "      <td>2007.000000</td>\n",
       "      <td>41.000000</td>\n",
       "      <td>0.000000</td>\n",
       "    </tr>\n",
       "    <tr>\n",
       "      <th>50%</th>\n",
       "      <td>2021-05-22 00:00:00</td>\n",
       "      <td>2016.000000</td>\n",
       "      <td>86.000000</td>\n",
       "      <td>0.000000</td>\n",
       "    </tr>\n",
       "    <tr>\n",
       "      <th>75%</th>\n",
       "      <td>2021-08-06 00:00:00</td>\n",
       "      <td>2019.000000</td>\n",
       "      <td>101.000000</td>\n",
       "      <td>0.000000</td>\n",
       "    </tr>\n",
       "    <tr>\n",
       "      <th>max</th>\n",
       "      <td>2021-10-10 00:00:00</td>\n",
       "      <td>2021.000000</td>\n",
       "      <td>601.000000</td>\n",
       "      <td>29.000000</td>\n",
       "    </tr>\n",
       "    <tr>\n",
       "      <th>std</th>\n",
       "      <td>NaN</td>\n",
       "      <td>18.922482</td>\n",
       "      <td>51.060792</td>\n",
       "      <td>1.014932</td>\n",
       "    </tr>\n",
       "  </tbody>\n",
       "</table>\n",
       "</div>"
      ],
      "text/plain": [
       "                          date_added  release_year  duration_min  \\\n",
       "count                           9668   9668.000000   9668.000000   \n",
       "mean   2021-06-04 18:47:48.680182016   2008.341849     73.801303   \n",
       "min              2021-03-30 00:00:00   1920.000000      0.000000   \n",
       "25%              2021-03-30 00:00:00   2007.000000     41.000000   \n",
       "50%              2021-05-22 00:00:00   2016.000000     86.000000   \n",
       "75%              2021-08-06 00:00:00   2019.000000    101.000000   \n",
       "max              2021-10-10 00:00:00   2021.000000    601.000000   \n",
       "std                              NaN     18.922482     51.060792   \n",
       "\n",
       "       duration_seasons  \n",
       "count       9668.000000  \n",
       "mean           0.191663  \n",
       "min            0.000000  \n",
       "25%            0.000000  \n",
       "50%            0.000000  \n",
       "75%            0.000000  \n",
       "max           29.000000  \n",
       "std            1.014932  "
      ]
     },
     "execution_count": 21,
     "metadata": {},
     "output_type": "execute_result"
    }
   ],
   "source": [
    "df.describe()"
   ]
  },
  {
   "cell_type": "code",
   "execution_count": 22,
   "id": "f72cdfdd",
   "metadata": {
    "execution": {
     "iopub.execute_input": "2025-02-11T16:03:48.223828Z",
     "iopub.status.busy": "2025-02-11T16:03:48.223371Z",
     "iopub.status.idle": "2025-02-11T16:03:48.270337Z",
     "shell.execute_reply": "2025-02-11T16:03:48.269162Z"
    },
    "papermill": {
     "duration": 0.057399,
     "end_time": "2025-02-11T16:03:48.272660",
     "exception": false,
     "start_time": "2025-02-11T16:03:48.215261",
     "status": "completed"
    },
    "tags": []
   },
   "outputs": [
    {
     "data": {
      "text/html": [
       "<div>\n",
       "<style scoped>\n",
       "    .dataframe tbody tr th:only-of-type {\n",
       "        vertical-align: middle;\n",
       "    }\n",
       "\n",
       "    .dataframe tbody tr th {\n",
       "        vertical-align: top;\n",
       "    }\n",
       "\n",
       "    .dataframe thead th {\n",
       "        text-align: right;\n",
       "    }\n",
       "</style>\n",
       "<table border=\"1\" class=\"dataframe\">\n",
       "  <thead>\n",
       "    <tr style=\"text-align: right;\">\n",
       "      <th></th>\n",
       "      <th>show_id</th>\n",
       "      <th>type</th>\n",
       "      <th>title</th>\n",
       "      <th>director</th>\n",
       "      <th>cast</th>\n",
       "      <th>country</th>\n",
       "      <th>rating</th>\n",
       "      <th>duration</th>\n",
       "      <th>categories</th>\n",
       "    </tr>\n",
       "  </thead>\n",
       "  <tbody>\n",
       "    <tr>\n",
       "      <th>count</th>\n",
       "      <td>9668</td>\n",
       "      <td>9668</td>\n",
       "      <td>9668</td>\n",
       "      <td>9668</td>\n",
       "      <td>9668</td>\n",
       "      <td>9668</td>\n",
       "      <td>9668</td>\n",
       "      <td>9668</td>\n",
       "      <td>9668</td>\n",
       "    </tr>\n",
       "    <tr>\n",
       "      <th>unique</th>\n",
       "      <td>9668</td>\n",
       "      <td>2</td>\n",
       "      <td>9668</td>\n",
       "      <td>5774</td>\n",
       "      <td>7928</td>\n",
       "      <td>86</td>\n",
       "      <td>21</td>\n",
       "      <td>219</td>\n",
       "      <td>518</td>\n",
       "    </tr>\n",
       "    <tr>\n",
       "      <th>top</th>\n",
       "      <td>s1</td>\n",
       "      <td>Movie</td>\n",
       "      <td>The Grand Seduction</td>\n",
       "      <td>unavailable</td>\n",
       "      <td>unavailable</td>\n",
       "      <td>United States</td>\n",
       "      <td>13+</td>\n",
       "      <td>1 Season</td>\n",
       "      <td>Drama</td>\n",
       "    </tr>\n",
       "    <tr>\n",
       "      <th>freq</th>\n",
       "      <td>1</td>\n",
       "      <td>7814</td>\n",
       "      <td>1</td>\n",
       "      <td>2083</td>\n",
       "      <td>1233</td>\n",
       "      <td>9249</td>\n",
       "      <td>2454</td>\n",
       "      <td>1342</td>\n",
       "      <td>986</td>\n",
       "    </tr>\n",
       "  </tbody>\n",
       "</table>\n",
       "</div>"
      ],
      "text/plain": [
       "       show_id   type                title     director         cast  \\\n",
       "count     9668   9668                 9668         9668         9668   \n",
       "unique    9668      2                 9668         5774         7928   \n",
       "top         s1  Movie  The Grand Seduction  unavailable  unavailable   \n",
       "freq         1   7814                    1         2083         1233   \n",
       "\n",
       "              country rating  duration categories  \n",
       "count            9668   9668      9668       9668  \n",
       "unique             86     21       219        518  \n",
       "top     United States    13+  1 Season      Drama  \n",
       "freq             9249   2454      1342        986  "
      ]
     },
     "execution_count": 22,
     "metadata": {},
     "output_type": "execute_result"
    }
   ],
   "source": [
    "df.describe(include='object')"
   ]
  },
  {
   "cell_type": "code",
   "execution_count": 23,
   "id": "9517b1b1",
   "metadata": {
    "execution": {
     "iopub.execute_input": "2025-02-11T16:03:48.289920Z",
     "iopub.status.busy": "2025-02-11T16:03:48.289560Z",
     "iopub.status.idle": "2025-02-11T16:03:48.530076Z",
     "shell.execute_reply": "2025-02-11T16:03:48.528927Z"
    },
    "papermill": {
     "duration": 0.251187,
     "end_time": "2025-02-11T16:03:48.531881",
     "exception": false,
     "start_time": "2025-02-11T16:03:48.280694",
     "status": "completed"
    },
    "tags": []
   },
   "outputs": [
    {
     "data": {
      "image/png": "[encoded data removed]",
      "text/plain": [
       "<Figure size 640x480 with 1 Axes>"
      ]
     },
     "metadata": {},
     "output_type": "display_data"
    }
   ],
   "source": [
    "sns.countplot(data = df , x = 'type')\n",
    "plt.show()"
   ]
  },
  {
   "cell_type": "code",
   "execution_count": 24,
   "id": "3ca8fcd6",
   "metadata": {
    "execution": {
     "iopub.execute_input": "2025-02-11T16:03:48.550176Z",
     "iopub.status.busy": "2025-02-11T16:03:48.549832Z",
     "iopub.status.idle": "2025-02-11T16:03:48.799348Z",
     "shell.execute_reply": "2025-02-11T16:03:48.797997Z"
    },
    "papermill": {
     "duration": 0.261469,
     "end_time": "2025-02-11T16:03:48.801659",
     "exception": false,
     "start_time": "2025-02-11T16:03:48.540190",
     "status": "completed"
    },
    "tags": []
   },
   "outputs": [
    {
     "data": {
      "image/png": "[encoded data removed]",
      "text/plain": [
       "<Figure size 640x480 with 1 Axes>"
      ]
     },
     "metadata": {},
     "output_type": "display_data"
    }
   ],
   "source": [
    "df['categories'].value_counts()[:10].plot.bar()\n",
    "plt.xticks(rotation=45)\n",
    "plt.show()"
   ]
  },
  {
   "cell_type": "code",
   "execution_count": 25,
   "id": "5af8d9f1",
   "metadata": {
    "execution": {
     "iopub.execute_input": "2025-02-11T16:03:48.825073Z",
     "iopub.status.busy": "2025-02-11T16:03:48.824596Z",
     "iopub.status.idle": "2025-02-11T16:03:49.092057Z",
     "shell.execute_reply": "2025-02-11T16:03:49.090407Z"
    },
    "papermill": {
     "duration": 0.28362,
     "end_time": "2025-02-11T16:03:49.094512",
     "exception": false,
     "start_time": "2025-02-11T16:03:48.810892",
     "status": "completed"
    },
    "tags": []
   },
   "outputs": [
    {
     "data": {
      "image/png": "[encoded data removed]",
      "text/plain": [
       "<Figure size 640x480 with 1 Axes>"
      ]
     },
     "metadata": {},
     "output_type": "display_data"
    }
   ],
   "source": [
    "df['release_year'].value_counts().plot.line()\n",
    "plt.title(\"Content Released Over the Years\")\n",
    "plt.show()"
   ]
  },
  {
   "cell_type": "code",
   "execution_count": 26,
   "id": "bcb9dcb5",
   "metadata": {
    "execution": {
     "iopub.execute_input": "2025-02-11T16:03:49.122551Z",
     "iopub.status.busy": "2025-02-11T16:03:49.122117Z",
     "iopub.status.idle": "2025-02-11T16:03:49.363092Z",
     "shell.execute_reply": "2025-02-11T16:03:49.361925Z"
    },
    "papermill": {
     "duration": 0.259868,
     "end_time": "2025-02-11T16:03:49.365023",
     "exception": false,
     "start_time": "2025-02-11T16:03:49.105155",
     "status": "completed"
    },
    "tags": []
   },
   "outputs": [
    {
     "data": {
      "image/png": "[encoded data removed]",
      "text/plain": [
       "<Figure size 800x600 with 1 Axes>"
      ]
     },
     "metadata": {},
     "output_type": "display_data"
    }
   ],
   "source": [
    "plt.figure(figsize = (8,6))\n",
    "df['rating'].value_counts().plot.pie()\n",
    "plt.show()"
   ]
  }
 ],
 "metadata": {
  "kaggle": {
   "accelerator": "none",
   "dataSources": [
    {
     "datasetId": 1643699,
     "sourceId": 2698943,
     "sourceType": "datasetVersion"
    }
   ],
   "dockerImageVersionId": 30886,
   "isGpuEnabled": false,
   "isInternetEnabled": true,
   "language": "python",
   "sourceType": "notebook"
  },
  "kernelspec": {
   "display_name": "Python 3",
   "language": "python",
   "name": "python3"
  },
  "language_info": {
   "codemirror_mode": {
    "name": "ipython",
    "version": 3
   },
   "file_extension": ".py",
   "mimetype": "text/x-python",
   "name": "python",
   "nbconvert_exporter": "python",
   "pygments_lexer": "ipython3",
   "version": "3.10.12"
  },
  "papermill": {
   "default_parameters": {},
   "duration": 8.53024,
   "end_time": "2025-02-11T16:03:50.096345",
   "environment_variables": {},
   "exception": null,
   "input_path": "__notebook__.ipynb",
   "output_path": "__notebook__.ipynb",
   "parameters": {},
   "start_time": "2025-02-11T16:03:41.566105",
   "version": "2.6.0"
  }
 },
 "nbformat": 4,
 "nbformat_minor": 5
}
